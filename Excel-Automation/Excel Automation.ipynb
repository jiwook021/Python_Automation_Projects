{
 "cells": [
  {
   "cell_type": "code",
   "execution_count": 1,
   "id": "ad368f6f-87be-4719-8c3e-fbc7b7f37e06",
   "metadata": {},
   "outputs": [
    {
     "name": "stderr",
     "output_type": "stream",
     "text": [
      "c:\\users\\jiwoo\\appdata\\local\\programs\\python\\python39\\lib\\site-packages\\requests\\__init__.py:89: RequestsDependencyWarning: urllib3 (1.26.7) or chardet (3.0.4) doesn't match a supported version!\n",
      "  warnings.warn(\"urllib3 ({}) or chardet ({}) doesn't match a supported \"\n"
     ]
    }
   ],
   "source": [
    "import xlwings as xw\n",
    "app = xw.App()\n",
    "wb = app.books.open('kospi.xlsx')"
   ]
  },
  {
   "cell_type": "code",
   "execution_count": 2,
   "id": "be17ad1f-3212-403d-87af-a93d5534c211",
   "metadata": {},
   "outputs": [
    {
     "data": {
      "text/plain": [
       "Sheets([<Sheet [kospi.xlsx]first>, <Sheet [kospi.xlsx]new>, <Sheet [kospi.xlsx]stats>, ...])"
      ]
     },
     "execution_count": 2,
     "metadata": {},
     "output_type": "execute_result"
    }
   ],
   "source": [
    "wb.sheets"
   ]
  },
  {
   "cell_type": "code",
   "execution_count": 3,
   "id": "fbadb55f-eabb-4ffc-80bb-cc6a65e73f75",
   "metadata": {},
   "outputs": [],
   "source": [
    "sheet_data = wb.sheets[\"Data\"]\n",
    "sheet_data = wb.sheets[0]\n",
    "sheet_address = wb.sheets[\"Address\"]\n",
    "sheet_address = wb.sheets[1]"
   ]
  },
  {
   "cell_type": "code",
   "execution_count": 4,
   "id": "c91d5343-e564-4aef-90b7-ce346b20ecf7",
   "metadata": {},
   "outputs": [
    {
     "ename": "ValueError",
     "evalue": "Sheet named 'new' already present in workbook",
     "output_type": "error",
     "traceback": [
      "\u001b[1;31m---------------------------------------------------------------------------\u001b[0m",
      "\u001b[1;31mValueError\u001b[0m                                Traceback (most recent call last)",
      "\u001b[1;32m~\\AppData\\Local\\Temp/ipykernel_16784/638785375.py\u001b[0m in \u001b[0;36m<module>\u001b[1;34m\u001b[0m\n\u001b[1;32m----> 1\u001b[1;33m \u001b[0mwb\u001b[0m\u001b[1;33m.\u001b[0m\u001b[0msheets\u001b[0m\u001b[1;33m.\u001b[0m\u001b[0madd\u001b[0m\u001b[1;33m(\u001b[0m\u001b[1;34m\"new\"\u001b[0m\u001b[1;33m)\u001b[0m\u001b[1;33m\u001b[0m\u001b[1;33m\u001b[0m\u001b[0m\n\u001b[0m",
      "\u001b[1;32mc:\\users\\jiwoo\\appdata\\local\\programs\\python\\python39\\lib\\site-packages\\xlwings\\main.py\u001b[0m in \u001b[0;36madd\u001b[1;34m(self, name, before, after)\u001b[0m\n\u001b[0;32m   4417\u001b[0m         \u001b[1;32mif\u001b[0m \u001b[0mname\u001b[0m \u001b[1;32mis\u001b[0m \u001b[1;32mnot\u001b[0m \u001b[1;32mNone\u001b[0m\u001b[1;33m:\u001b[0m\u001b[1;33m\u001b[0m\u001b[1;33m\u001b[0m\u001b[0m\n\u001b[0;32m   4418\u001b[0m             \u001b[1;32mif\u001b[0m \u001b[0mname\u001b[0m\u001b[1;33m.\u001b[0m\u001b[0mlower\u001b[0m\u001b[1;33m(\u001b[0m\u001b[1;33m)\u001b[0m \u001b[1;32min\u001b[0m \u001b[1;33m(\u001b[0m\u001b[0ms\u001b[0m\u001b[1;33m.\u001b[0m\u001b[0mname\u001b[0m\u001b[1;33m.\u001b[0m\u001b[0mlower\u001b[0m\u001b[1;33m(\u001b[0m\u001b[1;33m)\u001b[0m \u001b[1;32mfor\u001b[0m \u001b[0ms\u001b[0m \u001b[1;32min\u001b[0m \u001b[0mself\u001b[0m\u001b[1;33m)\u001b[0m\u001b[1;33m:\u001b[0m\u001b[1;33m\u001b[0m\u001b[1;33m\u001b[0m\u001b[0m\n\u001b[1;32m-> 4419\u001b[1;33m                 \u001b[1;32mraise\u001b[0m \u001b[0mValueError\u001b[0m\u001b[1;33m(\u001b[0m\u001b[1;34m\"Sheet named '%s' already present in workbook\"\u001b[0m \u001b[1;33m%\u001b[0m \u001b[0mname\u001b[0m\u001b[1;33m)\u001b[0m\u001b[1;33m\u001b[0m\u001b[1;33m\u001b[0m\u001b[0m\n\u001b[0m\u001b[0;32m   4420\u001b[0m         \u001b[1;32mif\u001b[0m \u001b[0mbefore\u001b[0m \u001b[1;32mis\u001b[0m \u001b[1;32mnot\u001b[0m \u001b[1;32mNone\u001b[0m \u001b[1;32mand\u001b[0m \u001b[1;32mnot\u001b[0m \u001b[0misinstance\u001b[0m\u001b[1;33m(\u001b[0m\u001b[0mbefore\u001b[0m\u001b[1;33m,\u001b[0m \u001b[0mSheet\u001b[0m\u001b[1;33m)\u001b[0m\u001b[1;33m:\u001b[0m\u001b[1;33m\u001b[0m\u001b[1;33m\u001b[0m\u001b[0m\n\u001b[0;32m   4421\u001b[0m             \u001b[0mbefore\u001b[0m \u001b[1;33m=\u001b[0m \u001b[0mself\u001b[0m\u001b[1;33m(\u001b[0m\u001b[0mbefore\u001b[0m\u001b[1;33m)\u001b[0m\u001b[1;33m\u001b[0m\u001b[1;33m\u001b[0m\u001b[0m\n",
      "\u001b[1;31mValueError\u001b[0m: Sheet named 'new' already present in workbook"
     ]
    }
   ],
   "source": [
    "wb.sheets.add(\"new\")\n"
   ]
  },
  {
   "cell_type": "code",
   "execution_count": null,
   "id": "eebb1602-3d03-4dbe-84bf-a718fbeab5f9",
   "metadata": {},
   "outputs": [],
   "source": [
    "wb.sheets.add(\"first\", before=wb.sheets[0])"
   ]
  },
  {
   "cell_type": "code",
   "execution_count": null,
   "id": "0ae752a6-771e-4dd0-8724-38f7b699bd40",
   "metadata": {},
   "outputs": [],
   "source": [
    "wb.sheets.add(\"last\", after=wb.sheets[-1])\n"
   ]
  },
  {
   "cell_type": "code",
   "execution_count": null,
   "id": "50835aa1-5e4d-4377-8342-3237de59e307",
   "metadata": {},
   "outputs": [],
   "source": [
    "sheet_data = wb.sheets[\"Data\"]"
   ]
  },
  {
   "cell_type": "code",
   "execution_count": null,
   "id": "e7496097-c9c1-4c9a-98f6-83c18a261d94",
   "metadata": {},
   "outputs": [],
   "source": [
    "sheet_data = wb.sheets[\"Data\"]\n"
   ]
  },
  {
   "cell_type": "code",
   "execution_count": null,
   "id": "73d667bf-32c9-4e0b-b12b-1c87b63080c3",
   "metadata": {},
   "outputs": [],
   "source": [
    "sheet_data.range(\"A1\").value = \"#\"\n"
   ]
  },
  {
   "cell_type": "code",
   "execution_count": null,
   "id": "a7d468b4-cd16-4754-afee-a5cc10557438",
   "metadata": {},
   "outputs": [],
   "source": [
    "sheet_data.range(\"A1\").value = \"번호\""
   ]
  },
  {
   "cell_type": "code",
   "execution_count": null,
   "id": "bd22c733-5936-4679-88a4-82df2a4aa451",
   "metadata": {},
   "outputs": [],
   "source": [
    "import pandas as pd\n",
    "data_df = sheet_data.range(\"A1\").options(pd.DataFrame, expand=\"table\").value\n",
    "data_df.head()"
   ]
  },
  {
   "cell_type": "code",
   "execution_count": null,
   "id": "1c0e914b-5b0b-4d8e-9bf2-07d1a3837cdb",
   "metadata": {},
   "outputs": [],
   "source": [
    "sht = wb.sheets.add(\"stats\")\n",
    "sht = wb.sheets[\"stats\"]\n",
    "chart = sht.charts.add(left=sht.range(\"E4\").left, top=sht.range(\"E4\").top, width=600, height=400)\n",
    "chart.set_source_data(wb.sheets[\"data\"].range('F:F').expand('down'))\n",
    "chart.chart_type = 'line'"
   ]
  },
  {
   "cell_type": "code",
   "execution_count": null,
   "id": "a76c827e-b1f3-4829-9143-649364bf6c45",
   "metadata": {},
   "outputs": [],
   "source": [
    "import matplotlib.pyplot as plt\n",
    "plt.rcParams[\"font.family\"] = \"NanumGothic\"\n",
    "fig = plt.figure()\n",
    "plt.plot(data_df[\"상장주식수(주)\"].values)\n",
    "sheet_data.pictures.add(fig, name='MyPlot', update=True)"
   ]
  },
  {
   "cell_type": "code",
   "execution_count": null,
   "id": "f50af295-9069-4a19-b04a-dd95ad7d8c1b",
   "metadata": {},
   "outputs": [],
   "source": []
  },
  {
   "cell_type": "code",
   "execution_count": null,
   "id": "0a8ec881-3ebc-4b8f-9373-2da74c42c4d7",
   "metadata": {},
   "outputs": [],
   "source": []
  }
 ],
 "metadata": {
  "kernelspec": {
   "display_name": "Python 3 (ipykernel)",
   "language": "python",
   "name": "python3"
  },
  "language_info": {
   "codemirror_mode": {
    "name": "ipython",
    "version": 3
   },
   "file_extension": ".py",
   "mimetype": "text/x-python",
   "name": "python",
   "nbconvert_exporter": "python",
   "pygments_lexer": "ipython3",
   "version": "3.9.0"
  }
 },
 "nbformat": 4,
 "nbformat_minor": 5
}
