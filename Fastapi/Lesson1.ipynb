{
 "cells": [
  {
   "cell_type": "code",
   "execution_count": 6,
   "id": "ffd3fc97-bdbe-4dd3-8d69-7a94c3bea756",
   "metadata": {},
   "outputs": [
    {
     "name": "stdout",
     "output_type": "stream",
     "text": [
      "61c9a5fc209c09d31367a991\n"
     ]
    }
   ],
   "source": [
    "from pymongo import MongoClient\n",
    "\n",
    "my_client = MongoClient(\"mongodb://localhost:27017/\")\n",
    "\n",
    "mydb = my_client['test']\n",
    "mycol = mydb['customers']\n",
    "\n",
    "x = mycol.insert_one({\"nameds\":\"buzzids\", \"address\":\"Seoul\"})\n",
    "\n",
    "\n",
    "print(x.inserted_id)"
   ]
  },
  {
   "cell_type": "code",
   "execution_count": 18,
   "id": "527916b8-ff88-4808-a83f-9762fa507ae3",
   "metadata": {},
   "outputs": [
    {
     "name": "stdout",
     "output_type": "stream",
     "text": [
      "[ObjectId('61c9a7bb209c09d31367a9b3'), ObjectId('61c9a7bb209c09d31367a9b4'), ObjectId('61c9a7bb209c09d31367a9b5'), ObjectId('61c9a7bb209c09d31367a9b6')]\n"
     ]
    }
   ],
   "source": [
    "from pymongo import MongoClient\n",
    "\n",
    "my_client = MongoClient(\"mongodb://localhost:27017/\")\n",
    "\n",
    "mydb = my_client['test']\n",
    "mycol = mydb['customers']\n",
    "\n",
    "my_dict = [{\"name\":\"PUTTY\", \"address\":\"SSH World, Network\"},\n",
    "           {\"name\":\"donghyunjang\", \"address\":\"Seoul, Korea\"},\n",
    "           {\"name\":\"Avengers\", \"address\":\"Avengers Team Building, USA\"}\n",
    "          ,{\"name\":\"Hello\"  , \"address\":\"World\"}]\n",
    "\n",
    "x = mycol.insert_many(my_dict)\n",
    "\n",
    "print(x.inserted_ids)\n"
   ]
  },
  {
   "cell_type": "code",
   "execution_count": 19,
   "id": "18df4c4e-8da7-4c6e-920e-daa775e15e68",
   "metadata": {},
   "outputs": [
    {
     "name": "stdout",
     "output_type": "stream",
     "text": [
      "{'_id': ObjectId('61c9a52a209c09d31367a987'), 'name': 'buzzi', 'address': 'Seoul'}\n"
     ]
    }
   ],
   "source": [
    "from pymongo import MongoClient\n",
    "\n",
    "my_client = MongoClient(\"mongodb://localhost:27017/\")\n",
    "\n",
    "mydb = my_client['test']\n",
    "mycol = mydb['customers']\n",
    "\n",
    "x = mycol.find_one()\n",
    "print(x)"
   ]
  },
  {
   "cell_type": "code",
   "execution_count": 20,
   "id": "78372111-f042-4cd4-844e-73fbff8abf2e",
   "metadata": {},
   "outputs": [
    {
     "name": "stdout",
     "output_type": "stream",
     "text": [
      "{'_id': ObjectId('61c9a52a209c09d31367a987'), 'name': 'buzzi', 'address': 'Seoul'}\n",
      "{'_id': ObjectId('61c9a59b209c09d31367a989'), 'name': 'buzzi', 'address': 'Seoul'}\n",
      "{'_id': ObjectId('61c9a5b0209c09d31367a98b'), 'name': 'buzzi', 'address': 'Seoul'}\n",
      "{'_id': ObjectId('61c9a5e4209c09d31367a98d'), 'name': 'buzzi', 'address': 'Seoul'}\n",
      "{'_id': ObjectId('61c9a5eb209c09d31367a98f'), 'names': 'buzzis', 'address': 'Seoul'}\n",
      "{'_id': ObjectId('61c9a5fc209c09d31367a991'), 'nameds': 'buzzids', 'address': 'Seoul'}\n",
      "{'_id': ObjectId('61c9a695209c09d31367a998'), 'name': 'PUTTY', 'address': 'SSH World, Network'}\n",
      "{'_id': ObjectId('61c9a695209c09d31367a999'), 'name': 'donghyunjang', 'address': 'Seoul, Korea'}\n",
      "{'_id': ObjectId('61c9a695209c09d31367a99a'), 'name': 'Avengers', 'address': 'Avengers Team Building, USA'}\n",
      "{'_id': ObjectId('61c9a6d7209c09d31367a99c'), 'name': 'PUTTY', 'address': 'SSH World, Network'}\n",
      "{'_id': ObjectId('61c9a6d7209c09d31367a99d'), 'name': 'donghyunjang', 'address': 'Seoul, Korea'}\n",
      "{'_id': ObjectId('61c9a6d7209c09d31367a99e'), 'name': 'Avengers', 'address': 'Avengers Team Building, USA'}\n",
      "{'_id': ObjectId('61c9a6e2209c09d31367a9a0'), 'name': 'PUTTY', 'address': 'SSH World, Network'}\n",
      "{'_id': ObjectId('61c9a6e2209c09d31367a9a1'), 'name': 'donghyunjang', 'address': 'Seoul, Korea'}\n",
      "{'_id': ObjectId('61c9a6e2209c09d31367a9a2'), 'name': 'Avengers', 'address': 'Avengers Team Building, USA'}\n",
      "{'_id': ObjectId('61c9a7a8209c09d31367a9a4'), 'name': 'PUTTY', 'address': 'SSH World, Network'}\n",
      "{'_id': ObjectId('61c9a7a8209c09d31367a9a5'), 'name': 'donghyunjang', 'address': 'Seoul, Korea'}\n",
      "{'_id': ObjectId('61c9a7a8209c09d31367a9a6'), 'name': 'Avengers', 'address': 'Avengers Team Building, USA'}\n",
      "{'_id': ObjectId('61c9a7a8209c09d31367a9a7'), 'name': 'Hello', 'address': 'World'}\n",
      "{'_id': ObjectId('61c9a7b4209c09d31367a9a9'), 'name': 'PUTTY', 'address': 'SSH World, Network'}\n",
      "{'_id': ObjectId('61c9a7b4209c09d31367a9aa'), 'name': 'donghyunjang', 'address': 'Seoul, Korea'}\n",
      "{'_id': ObjectId('61c9a7b4209c09d31367a9ab'), 'name': 'Avengers', 'address': 'Avengers Team Building, USA'}\n",
      "{'_id': ObjectId('61c9a7b4209c09d31367a9ac'), 'name': 'Hello', 'address': 'World'}\n",
      "{'_id': ObjectId('61c9a7b6209c09d31367a9ae'), 'name': 'PUTTY', 'address': 'SSH World, Network'}\n",
      "{'_id': ObjectId('61c9a7b6209c09d31367a9af'), 'name': 'donghyunjang', 'address': 'Seoul, Korea'}\n",
      "{'_id': ObjectId('61c9a7b6209c09d31367a9b0'), 'name': 'Avengers', 'address': 'Avengers Team Building, USA'}\n",
      "{'_id': ObjectId('61c9a7b6209c09d31367a9b1'), 'name': 'Hello', 'address': 'World'}\n",
      "{'_id': ObjectId('61c9a7bb209c09d31367a9b3'), 'name': 'PUTTY', 'address': 'SSH World, Network'}\n",
      "{'_id': ObjectId('61c9a7bb209c09d31367a9b4'), 'name': 'donghyunjang', 'address': 'Seoul, Korea'}\n",
      "{'_id': ObjectId('61c9a7bb209c09d31367a9b5'), 'name': 'Avengers', 'address': 'Avengers Team Building, USA'}\n",
      "{'_id': ObjectId('61c9a7bb209c09d31367a9b6'), 'name': 'Hello', 'address': 'World'}\n"
     ]
    }
   ],
   "source": [
    "from pymongo import MongoClient\n",
    "\n",
    "my_client = MongoClient(\"mongodb://localhost:27017/\")\n",
    "\n",
    "mydb = my_client['test']\n",
    "mycol = mydb['customers']\n",
    "\n",
    "list = mycol.find()\n",
    "\n",
    "for x in list:\n",
    "    print(x)"
   ]
  },
  {
   "cell_type": "code",
   "execution_count": 22,
   "id": "0cf2e625-158d-44e6-8b2c-1149294638a9",
   "metadata": {},
   "outputs": [
    {
     "name": "stdout",
     "output_type": "stream",
     "text": [
      "{'_id': ObjectId('61c9a5eb209c09d31367a98f'), 'names': 'buzzis', 'address': 'Seoul'}\n",
      "{'_id': ObjectId('61c9a5fc209c09d31367a991'), 'nameds': 'buzzids', 'address': 'Seoul'}\n",
      "{'_id': ObjectId('61c9a695209c09d31367a99a'), 'name': 'Avengers', 'address': 'Avengers Team Building, USA'}\n",
      "{'_id': ObjectId('61c9a6d7209c09d31367a99e'), 'name': 'Avengers', 'address': 'Avengers Team Building, USA'}\n",
      "{'_id': ObjectId('61c9a6e2209c09d31367a9a2'), 'name': 'Avengers', 'address': 'Avengers Team Building, USA'}\n",
      "{'_id': ObjectId('61c9a7a8209c09d31367a9a6'), 'name': 'Avengers', 'address': 'Avengers Team Building, USA'}\n",
      "{'_id': ObjectId('61c9a7b4209c09d31367a9ab'), 'name': 'Avengers', 'address': 'Avengers Team Building, USA'}\n",
      "{'_id': ObjectId('61c9a7b6209c09d31367a9b0'), 'name': 'Avengers', 'address': 'Avengers Team Building, USA'}\n",
      "{'_id': ObjectId('61c9a7bb209c09d31367a9b5'), 'name': 'Avengers', 'address': 'Avengers Team Building, USA'}\n",
      "{'_id': ObjectId('61c9a7a8209c09d31367a9a7'), 'name': 'Hello', 'address': 'World'}\n",
      "{'_id': ObjectId('61c9a7b4209c09d31367a9ac'), 'name': 'Hello', 'address': 'World'}\n",
      "{'_id': ObjectId('61c9a7b6209c09d31367a9b1'), 'name': 'Hello', 'address': 'World'}\n",
      "{'_id': ObjectId('61c9a7bb209c09d31367a9b6'), 'name': 'Hello', 'address': 'World'}\n",
      "{'_id': ObjectId('61c9a695209c09d31367a998'), 'name': 'PUTTY', 'address': 'SSH World, Network'}\n",
      "{'_id': ObjectId('61c9a6d7209c09d31367a99c'), 'name': 'PUTTY', 'address': 'SSH World, Network'}\n",
      "{'_id': ObjectId('61c9a6e2209c09d31367a9a0'), 'name': 'PUTTY', 'address': 'SSH World, Network'}\n",
      "{'_id': ObjectId('61c9a7a8209c09d31367a9a4'), 'name': 'PUTTY', 'address': 'SSH World, Network'}\n",
      "{'_id': ObjectId('61c9a7b4209c09d31367a9a9'), 'name': 'PUTTY', 'address': 'SSH World, Network'}\n",
      "{'_id': ObjectId('61c9a7b6209c09d31367a9ae'), 'name': 'PUTTY', 'address': 'SSH World, Network'}\n",
      "{'_id': ObjectId('61c9a7bb209c09d31367a9b3'), 'name': 'PUTTY', 'address': 'SSH World, Network'}\n",
      "{'_id': ObjectId('61c9a52a209c09d31367a987'), 'name': 'buzzi', 'address': 'Seoul'}\n",
      "{'_id': ObjectId('61c9a59b209c09d31367a989'), 'name': 'buzzi', 'address': 'Seoul'}\n",
      "{'_id': ObjectId('61c9a5b0209c09d31367a98b'), 'name': 'buzzi', 'address': 'Seoul'}\n",
      "{'_id': ObjectId('61c9a5e4209c09d31367a98d'), 'name': 'buzzi', 'address': 'Seoul'}\n",
      "{'_id': ObjectId('61c9a695209c09d31367a999'), 'name': 'donghyunjang', 'address': 'Seoul, Korea'}\n",
      "{'_id': ObjectId('61c9a6d7209c09d31367a99d'), 'name': 'donghyunjang', 'address': 'Seoul, Korea'}\n",
      "{'_id': ObjectId('61c9a6e2209c09d31367a9a1'), 'name': 'donghyunjang', 'address': 'Seoul, Korea'}\n",
      "{'_id': ObjectId('61c9a7a8209c09d31367a9a5'), 'name': 'donghyunjang', 'address': 'Seoul, Korea'}\n",
      "{'_id': ObjectId('61c9a7b4209c09d31367a9aa'), 'name': 'donghyunjang', 'address': 'Seoul, Korea'}\n",
      "{'_id': ObjectId('61c9a7b6209c09d31367a9af'), 'name': 'donghyunjang', 'address': 'Seoul, Korea'}\n",
      "{'_id': ObjectId('61c9a7bb209c09d31367a9b4'), 'name': 'donghyunjang', 'address': 'Seoul, Korea'}\n"
     ]
    }
   ],
   "source": [
    "from pymongo import MongoClient\n",
    "my_client = MongoClient(\"mongodb://localhost:27017/\")\n",
    "\n",
    "mydb = my_client['test']\n",
    "mycol = mydb['customers']\n",
    "\n",
    "my_doc = mycol.find().sort(\"name\")\n",
    "for x in my_doc:\n",
    "    print(x)"
   ]
  },
  {
   "cell_type": "code",
   "execution_count": 23,
   "id": "c14b952a-fbb4-444d-a3e1-4ee2addd74e1",
   "metadata": {},
   "outputs": [
    {
     "name": "stdout",
     "output_type": "stream",
     "text": [
      "{'_id': ObjectId('61c9a695209c09d31367a999'), 'name': 'donghyunjang', 'address': 'Seoul, Korea'}\n",
      "{'_id': ObjectId('61c9a6d7209c09d31367a99d'), 'name': 'donghyunjang', 'address': 'Seoul, Korea'}\n",
      "{'_id': ObjectId('61c9a6e2209c09d31367a9a1'), 'name': 'donghyunjang', 'address': 'Seoul, Korea'}\n",
      "{'_id': ObjectId('61c9a7a8209c09d31367a9a5'), 'name': 'donghyunjang', 'address': 'Seoul, Korea'}\n",
      "{'_id': ObjectId('61c9a7b4209c09d31367a9aa'), 'name': 'donghyunjang', 'address': 'Seoul, Korea'}\n",
      "{'_id': ObjectId('61c9a7b6209c09d31367a9af'), 'name': 'donghyunjang', 'address': 'Seoul, Korea'}\n",
      "{'_id': ObjectId('61c9a7bb209c09d31367a9b4'), 'name': 'donghyunjang', 'address': 'Seoul, Korea'}\n",
      "{'_id': ObjectId('61c9a52a209c09d31367a987'), 'name': 'buzzi', 'address': 'Seoul'}\n",
      "{'_id': ObjectId('61c9a59b209c09d31367a989'), 'name': 'buzzi', 'address': 'Seoul'}\n",
      "{'_id': ObjectId('61c9a5b0209c09d31367a98b'), 'name': 'buzzi', 'address': 'Seoul'}\n",
      "{'_id': ObjectId('61c9a5e4209c09d31367a98d'), 'name': 'buzzi', 'address': 'Seoul'}\n",
      "{'_id': ObjectId('61c9a695209c09d31367a998'), 'name': 'PUTTY', 'address': 'SSH World, Network'}\n",
      "{'_id': ObjectId('61c9a6d7209c09d31367a99c'), 'name': 'PUTTY', 'address': 'SSH World, Network'}\n",
      "{'_id': ObjectId('61c9a6e2209c09d31367a9a0'), 'name': 'PUTTY', 'address': 'SSH World, Network'}\n",
      "{'_id': ObjectId('61c9a7a8209c09d31367a9a4'), 'name': 'PUTTY', 'address': 'SSH World, Network'}\n",
      "{'_id': ObjectId('61c9a7b4209c09d31367a9a9'), 'name': 'PUTTY', 'address': 'SSH World, Network'}\n",
      "{'_id': ObjectId('61c9a7b6209c09d31367a9ae'), 'name': 'PUTTY', 'address': 'SSH World, Network'}\n",
      "{'_id': ObjectId('61c9a7bb209c09d31367a9b3'), 'name': 'PUTTY', 'address': 'SSH World, Network'}\n",
      "{'_id': ObjectId('61c9a7a8209c09d31367a9a7'), 'name': 'Hello', 'address': 'World'}\n",
      "{'_id': ObjectId('61c9a7b4209c09d31367a9ac'), 'name': 'Hello', 'address': 'World'}\n",
      "{'_id': ObjectId('61c9a7b6209c09d31367a9b1'), 'name': 'Hello', 'address': 'World'}\n",
      "{'_id': ObjectId('61c9a7bb209c09d31367a9b6'), 'name': 'Hello', 'address': 'World'}\n",
      "{'_id': ObjectId('61c9a695209c09d31367a99a'), 'name': 'Avengers', 'address': 'Avengers Team Building, USA'}\n",
      "{'_id': ObjectId('61c9a6d7209c09d31367a99e'), 'name': 'Avengers', 'address': 'Avengers Team Building, USA'}\n",
      "{'_id': ObjectId('61c9a6e2209c09d31367a9a2'), 'name': 'Avengers', 'address': 'Avengers Team Building, USA'}\n",
      "{'_id': ObjectId('61c9a7a8209c09d31367a9a6'), 'name': 'Avengers', 'address': 'Avengers Team Building, USA'}\n",
      "{'_id': ObjectId('61c9a7b4209c09d31367a9ab'), 'name': 'Avengers', 'address': 'Avengers Team Building, USA'}\n",
      "{'_id': ObjectId('61c9a7b6209c09d31367a9b0'), 'name': 'Avengers', 'address': 'Avengers Team Building, USA'}\n",
      "{'_id': ObjectId('61c9a7bb209c09d31367a9b5'), 'name': 'Avengers', 'address': 'Avengers Team Building, USA'}\n",
      "{'_id': ObjectId('61c9a5eb209c09d31367a98f'), 'names': 'buzzis', 'address': 'Seoul'}\n",
      "{'_id': ObjectId('61c9a5fc209c09d31367a991'), 'nameds': 'buzzids', 'address': 'Seoul'}\n"
     ]
    }
   ],
   "source": [
    "from pymongo import MongoClient\n",
    "\n",
    "my_client = MongoClient(\"mongodb://localhost:27017/\")\n",
    "\n",
    "mydb = my_client['test']\n",
    "mycol = mydb['customers']\n",
    "\n",
    "my_doc = mycol.find().sort(\"name\", -1)\n",
    "for x in my_doc:\n",
    "    print(x)"
   ]
  },
  {
   "cell_type": "code",
   "execution_count": 24,
   "id": "40a7f2c1-360a-4959-8a68-03f7ee23755e",
   "metadata": {},
   "outputs": [
    {
     "name": "stdout",
     "output_type": "stream",
     "text": [
      "{'_id': ObjectId('61c9a695209c09d31367a999'), 'name': 'donghyunjang', 'address': 'Seoul, Korea'}\n",
      "{'_id': ObjectId('61c9a6d7209c09d31367a99d'), 'name': 'donghyunjang', 'address': 'Seoul, Korea'}\n",
      "{'_id': ObjectId('61c9a6e2209c09d31367a9a1'), 'name': 'donghyunjang', 'address': 'Seoul, Korea'}\n",
      "{'_id': ObjectId('61c9a7a8209c09d31367a9a5'), 'name': 'donghyunjang', 'address': 'Seoul, Korea'}\n",
      "{'_id': ObjectId('61c9a7b4209c09d31367a9aa'), 'name': 'donghyunjang', 'address': 'Seoul, Korea'}\n",
      "{'_id': ObjectId('61c9a7b6209c09d31367a9af'), 'name': 'donghyunjang', 'address': 'Seoul, Korea'}\n",
      "{'_id': ObjectId('61c9a7bb209c09d31367a9b4'), 'name': 'donghyunjang', 'address': 'Seoul, Korea'}\n"
     ]
    }
   ],
   "source": [
    "from pymongo import MongoClient\n",
    "\n",
    "my_client = MongoClient(\"mongodb://localhost:27017/\")\n",
    "\n",
    "mydb = my_client['test']\n",
    "mycol = mydb['customers']\n",
    "\n",
    "my_query = {\"address\":\"Seoul, Korea\"}\n",
    "\n",
    "my_doc = mycol.find(my_query)\n",
    "\n",
    "for x in my_doc:\n",
    "    print(x)"
   ]
  },
  {
   "cell_type": "code",
   "execution_count": 26,
   "id": "01ae0704-62fd-457a-9a95-f49531966a44",
   "metadata": {},
   "outputs": [
    {
     "name": "stdout",
     "output_type": "stream",
     "text": [
      "{'_id': ObjectId('61c9a695209c09d31367a99a'), 'name': 'Avengers', 'address': 'Avengers Team Building, USA'}\n",
      "{'_id': ObjectId('61c9a6d7209c09d31367a99e'), 'name': 'Avengers', 'address': 'Avengers Team Building, USA'}\n",
      "{'_id': ObjectId('61c9a6e2209c09d31367a9a2'), 'name': 'Avengers', 'address': 'Avengers Team Building, USA'}\n",
      "{'_id': ObjectId('61c9a7a8209c09d31367a9a6'), 'name': 'Avengers', 'address': 'Avengers Team Building, USA'}\n",
      "{'_id': ObjectId('61c9a7b4209c09d31367a9ab'), 'name': 'Avengers', 'address': 'Avengers Team Building, USA'}\n",
      "{'_id': ObjectId('61c9a7b6209c09d31367a9b0'), 'name': 'Avengers', 'address': 'Avengers Team Building, USA'}\n",
      "{'_id': ObjectId('61c9a7bb209c09d31367a9b5'), 'name': 'Avengers', 'address': 'Avengers Team Building, USA'}\n"
     ]
    }
   ],
   "source": [
    "from pymongo import MongoClient\n",
    "\n",
    "my_client = MongoClient(\"mongodb://localhost:27017/\")\n",
    "\n",
    "mydb = my_client['test']\n",
    "mycol = mydb['customers']\n",
    "\n",
    "my_query = {\"name\":{\"$lt\":\"C\"}}\n",
    "my_doc = mycol.find(my_query)\n",
    "for x in my_doc:\n",
    "    print(x)"
   ]
  },
  {
   "cell_type": "code",
   "execution_count": 28,
   "id": "3f3f693b-8f03-4105-a725-1bdfc52f70b7",
   "metadata": {},
   "outputs": [],
   "source": [
    "from pymongo import MongoClient\n",
    "\n",
    "my_client = MongoClient(\"mongodb://localhost:27017/\")\n",
    "\n",
    "mydb = my_client['test']\n",
    "mycol = mydb['customers']\n",
    "\n",
    "my_query = {\"name\":{\"$regex\":\"^C\"}}\n",
    "my_doc = mycol.find(my_query)\n",
    "\n",
    "for x in my_doc:\n",
    "    print(x)"
   ]
  },
  {
   "cell_type": "code",
   "execution_count": null,
   "id": "f6ca9756-49e4-49fd-b6e5-e30e17866e07",
   "metadata": {},
   "outputs": [],
   "source": []
  }
 ],
 "metadata": {
  "kernelspec": {
   "display_name": "Python 3 (ipykernel)",
   "language": "python",
   "name": "python3"
  },
  "language_info": {
   "codemirror_mode": {
    "name": "ipython",
    "version": 3
   },
   "file_extension": ".py",
   "mimetype": "text/x-python",
   "name": "python",
   "nbconvert_exporter": "python",
   "pygments_lexer": "ipython3",
   "version": "3.9.0"
  }
 },
 "nbformat": 4,
 "nbformat_minor": 5
}
